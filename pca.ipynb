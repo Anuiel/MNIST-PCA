{
 "cells": [
  {
   "cell_type": "code",
   "execution_count": 3,
   "metadata": {},
   "outputs": [],
   "source": [
    "from sklearn import datasets\n",
    "import matplotlib.pyplot as plt\n",
    "import numpy as np\n",
    "\n",
    "digits = datasets.load_digits()"
   ]
  },
  {
   "cell_type": "code",
   "execution_count": 4,
   "metadata": {},
   "outputs": [],
   "source": [
    "from numpy.linalg import svd\n",
    "\n",
    "U, S, VT = svd(digits.data, full_matrices=False)"
   ]
  },
  {
   "cell_type": "code",
   "execution_count": 5,
   "metadata": {},
   "outputs": [],
   "source": [
    "def drawDigitsData(x, y, z, angle=0):\n",
    "    fig = plt.figure(figsize=(10, 10))\n",
    "    ax = fig.add_subplot(projection='3d')\n",
    "    scale = 20\n",
    "    fontsize = 16\n",
    "    color = ['#1f77b4', '#ff7f0e', '#2ca02c', '#d62728', '#9467bd', '#8c564b', '#e377c2', '#7f7f7f', '#bcbd22', '#17becf']\n",
    "    for digit in range(10):\n",
    "        ax.scatter(\n",
    "            x[digits.target == digit], \n",
    "            y[digits.target == digit], \n",
    "            z[digits.target == digit],\n",
    "            c=color[digit], s=scale, alpha=0.8, label=digit\n",
    "        )\n",
    "\n",
    "    fig.suptitle('Распределение цифр по трем признакам', fontsize=fontsize + 2, fontweight='bold')\n",
    "    # ax.set_xlabel(\"Значение по первому признаку\", fontsize=fontsize)\n",
    "    # ax.set_ylabel(\"Значение по второму признаку\", fontsize=fontsize)\n",
    "    ax.legend(bbox_to_anchor=(0., 1.04, 1., .102), loc='lower left', ncol=10, mode=\"expand\", borderaxespad=0.)\n",
    "    ax.view_init(-140, angle)"
   ]
  },
  {
   "cell_type": "code",
   "execution_count": 6,
   "metadata": {},
   "outputs": [],
   "source": [
    "def into_gif(x, y, z, name):\n",
    "    from tqdm import tqdm\n",
    "\n",
    "    params = np.linspace(0, 360, 360)\n",
    "    # params = np.arange(100, 1000)\n",
    "    for i, t in tqdm(enumerate(params)):\n",
    "        drawDigitsData(x, y, z, angle=t)\n",
    "        plt.savefig(f'./img/img_{i}.png', \n",
    "                    transparent = False,  \n",
    "        )\n",
    "        plt.close()\n",
    "\n",
    "    import imageio\n",
    "    frames = []\n",
    "    for i, t in tqdm(enumerate(params)):\n",
    "        image = imageio.v2.imread(f'./img/img_{i}.png')\n",
    "        frames.append(image)\n",
    "\n",
    "    imageio.mimsave(f'./{name}',\n",
    "                    frames, \n",
    "                    fps = 30)"
   ]
  },
  {
   "attachments": {},
   "cell_type": "markdown",
   "metadata": {},
   "source": [
    "## SVD version"
   ]
  },
  {
   "cell_type": "code",
   "execution_count": 7,
   "metadata": {},
   "outputs": [],
   "source": [
    "U, S, VT = svd(digits.data - (digits.data).mean(axis=0), full_matrices=False)\n",
    "\n",
    "w1, w2, w3 = VT[0,:].reshape(-1, 1), VT[1,:].reshape(-1, 1), VT[2, :].reshape(-1, 1)\n",
    "x, y, z  = digits.data @ w1, digits.data @ w2, digits.data @ w3"
   ]
  },
  {
   "cell_type": "code",
   "execution_count": 8,
   "metadata": {},
   "outputs": [
    {
     "name": "stderr",
     "output_type": "stream",
     "text": [
      "360it [01:02,  5.76it/s]\n",
      "360it [00:05, 63.28it/s]\n"
     ]
    }
   ],
   "source": [
    "into_gif(x, y, z, 'svd.gif')"
   ]
  },
  {
   "attachments": {},
   "cell_type": "markdown",
   "metadata": {},
   "source": [
    "## TSNE version"
   ]
  },
  {
   "cell_type": "code",
   "execution_count": 9,
   "metadata": {},
   "outputs": [
    {
     "data": {
      "text/plain": [
       "(1797, 3)"
      ]
     },
     "execution_count": 9,
     "metadata": {},
     "output_type": "execute_result"
    }
   ],
   "source": [
    "from sklearn.manifold import TSNE\n",
    "\n",
    "\n",
    "X = digits.data - (digits.data).mean(axis=0)\n",
    "X_embedded = TSNE(n_components=3, learning_rate='auto',\n",
    "                   init='random', perplexity=3).fit_transform(X)\n",
    "X_embedded.shape"
   ]
  },
  {
   "cell_type": "code",
   "execution_count": 10,
   "metadata": {},
   "outputs": [
    {
     "name": "stderr",
     "output_type": "stream",
     "text": [
      "360it [01:02,  5.75it/s]\n",
      "360it [00:05, 65.79it/s]\n"
     ]
    }
   ],
   "source": [
    "into_gif(X_embedded[:, 0], X_embedded[:, 1], X_embedded[:, 2], 'tsne.gif')"
   ]
  }
 ],
 "metadata": {
  "kernelspec": {
   "display_name": "Python 3",
   "language": "python",
   "name": "python3"
  },
  "language_info": {
   "codemirror_mode": {
    "name": "ipython",
    "version": 3
   },
   "file_extension": ".py",
   "mimetype": "text/x-python",
   "name": "python",
   "nbconvert_exporter": "python",
   "pygments_lexer": "ipython3",
   "version": "3.10.9"
  },
  "orig_nbformat": 4
 },
 "nbformat": 4,
 "nbformat_minor": 2
}
